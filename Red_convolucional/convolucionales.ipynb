{
  "nbformat": 4,
  "nbformat_minor": 0,
  "metadata": {
    "colab": {
      "provenance": []
    },
    "kernelspec": {
      "name": "python3",
      "display_name": "Python 3"
    },
    "language_info": {
      "name": "python"
    }
  },
  "cells": [
    {
      "cell_type": "code",
      "execution_count": null,
      "metadata": {
        "colab": {
          "base_uri": "https://localhost:8080/"
        },
        "id": "8nIJDH8NzXsD",
        "outputId": "ceff0871-9622-4aa0-b2a8-d4918849b0a2"
      },
      "outputs": [
        {
          "output_type": "stream",
          "name": "stdout",
          "text": [
            "keras version:  2.8.0\n"
          ]
        }
      ],
      "source": [
        "import keras\n",
        "import numpy as np\n",
        "import matplotlib.pyplot as plt\n",
        "print(\"keras version: \", keras.__version__)"
      ]
    },
    {
      "cell_type": "code",
      "source": [
        "from tensorflow.keras.utils import to_categorical"
      ],
      "metadata": {
        "id": "8LmO_VuVCuJO"
      },
      "execution_count": null,
      "outputs": []
    },
    {
      "cell_type": "code",
      "source": [
        "#Cargar bbase de datos de diferentes tipo de fuentes\n",
        "import os\n",
        "from six.moves import urllib\n",
        "\n",
        "file_url = 'https://github.com/bloolizard/PlayWithTensorFlow/raw/master/data_with_labels.npz'\n",
        "file_name = 'data_with_labels.npz'\n",
        "\n",
        "\n",
        "if not os.path.exists(file_name):\n",
        "    urllib.request.urlretrieve(file_url, file_name)\n",
        "#Cargar datos\n",
        "data=np.load('data_with_labels.npz')\n",
        "\n",
        "train = data['arr_0']/225\n",
        "labels = data['arr_1']\n",
        "onehot = to_categorical(labels, num_classes=len(np.unique(labels)))"
      ],
      "metadata": {
        "id": "KUcblL79ATvl"
      },
      "execution_count": null,
      "outputs": []
    },
    {
      "cell_type": "code",
      "source": [
        "#Dividir datos de entrenamiento al (90%) y validacion al (10%)\n",
        "np.random.seed(100)\n",
        "indices = np.random.permutation(train.shape[0])\n",
        "valid_cnt = int(train.shape[0]*0.1)\n",
        "test_idx, training_idx = indices[:valid_cnt],\\\n",
        "                indices[valid_cnt:]\n",
        "test, train = train[test_idx,:],\\\n",
        "                train[training_idx]\n",
        "onehot_test, onehot_train = onehot[test_idx,:],\\\n",
        "                onehot[training_idx,:]\n",
        "train = train.reshape([-1,train.shape[1],train.shape[2],1])\n",
        "test = test.reshape([-1,test.shape[1],test.shape[2],1])\n",
        "print('Forma de datos de entrenamiento: ',train.shape,'\\nForma de datos del test:',test.shape)"
      ],
      "metadata": {
        "colab": {
          "base_uri": "https://localhost:8080/"
        },
        "id": "4eqXxnYhGGCp",
        "outputId": "a291bb47-34ec-4556-e7b6-366531cf089e"
      },
      "execution_count": null,
      "outputs": [
        {
          "output_type": "stream",
          "name": "stdout",
          "text": [
            "Forma de datos de entrenamiento:  (2511, 36, 36, 1) \n",
            "Forma de datos del test: (279, 36, 36, 1)\n"
          ]
        }
      ]
    },
    {
      "cell_type": "code",
      "source": [
        "from keras.engine.sequential import Sequential\n",
        "#Definir CNN\n",
        "from keras.models import sequential\n",
        "from keras.layers import MaxPooling2D, Dropout, Dense, Flatten\n",
        "from keras.layers import Convolution2D as Conv2D\n",
        "\n",
        "model = Sequential() \n",
        "\n",
        "#De ebtrada: 36x36 imagenes con 1 canal\n",
        "#4 filtros convolucionales de tamaño 5x5\n",
        "\n",
        "model.add(Conv2D(4,(5,5),activation = 'relu',input_shape = (36,36,1)))\n",
        "model.add(MaxPooling2D(pool_size=(2,2)))\n",
        "\n",
        "model.add(Flatten())\n",
        "model.add(Dense(32,activation = 'relu'))\n",
        "model.add(Dropout(0.5))\n",
        "model.add(Dense(5,activation = 'softmax'))\n",
        "model.summary()"
      ],
      "metadata": {
        "colab": {
          "base_uri": "https://localhost:8080/"
        },
        "id": "bb4Q7IKsKXew",
        "outputId": "f4793d4d-a950-4335-9800-559e9c7ba7c2"
      },
      "execution_count": null,
      "outputs": [
        {
          "output_type": "stream",
          "name": "stdout",
          "text": [
            "Model: \"sequential\"\n",
            "_________________________________________________________________\n",
            " Layer (type)                Output Shape              Param #   \n",
            "=================================================================\n",
            " conv2d (Conv2D)             (None, 32, 32, 4)         104       \n",
            "                                                                 \n",
            " max_pooling2d (MaxPooling2D  (None, 16, 16, 4)        0         \n",
            " )                                                               \n",
            "                                                                 \n",
            " flatten (Flatten)           (None, 1024)              0         \n",
            "                                                                 \n",
            " dense (Dense)               (None, 32)                32800     \n",
            "                                                                 \n",
            " dropout (Dropout)           (None, 32)                0         \n",
            "                                                                 \n",
            " dense_1 (Dense)             (None, 5)                 165       \n",
            "                                                                 \n",
            "=================================================================\n",
            "Total params: 33,069\n",
            "Trainable params: 33,069\n",
            "Non-trainable params: 0\n",
            "_________________________________________________________________\n"
          ]
        }
      ]
    },
    {
      "cell_type": "code",
      "source": [
        "#Definir modelo\n",
        "from tensorflow.keras.optimizers import SGD\n",
        "\n",
        "model.compile(loss='categorical_crossentropy',\n",
        "              optimizer=SGD(lr=0.01, decay=1e-6, momentum=0.9, nesterov=True),\n",
        "              metrics=['accuracy'])"
      ],
      "metadata": {
        "colab": {
          "base_uri": "https://localhost:8080/"
        },
        "id": "y28OHK20JBYO",
        "outputId": "e7b73202-c69b-461e-94f9-01f7135f2987"
      },
      "execution_count": null,
      "outputs": [
        {
          "output_type": "stream",
          "name": "stderr",
          "text": [
            "/usr/local/lib/python3.7/dist-packages/keras/optimizer_v2/gradient_descent.py:102: UserWarning: The `lr` argument is deprecated, use `learning_rate` instead.\n",
            "  super(SGD, self).__init__(name, **kwargs)\n"
          ]
        }
      ]
    },
    {
      "cell_type": "code",
      "source": [
        "#Entrenar modelo\n",
        "#history-para analizar el historial de entrenamiento\n",
        "#validation-para analizar y ver la evaluación mientras se entrene el modelo \n",
        "history=model.fit(train,onehot_train,\n",
        "                  epochs=100,\n",
        "                  batch_size=128,\n",
        "                  validation_data=(test,onehot_test),\n",
        "                  verbose=1) "
      ],
      "metadata": {
        "colab": {
          "base_uri": "https://localhost:8080/"
        },
        "id": "2OwjB1pWMOPf",
        "outputId": "df6960ff-748a-417b-b1bf-887e1da293e8"
      },
      "execution_count": null,
      "outputs": [
        {
          "output_type": "stream",
          "name": "stdout",
          "text": [
            "Epoch 1/100\n",
            "20/20 [==============================] - 2s 58ms/step - loss: 1.6069 - accuracy: 0.2190 - val_loss: 1.5959 - val_accuracy: 0.2294\n",
            "Epoch 2/100\n",
            "20/20 [==============================] - 1s 49ms/step - loss: 1.5698 - accuracy: 0.2680 - val_loss: 1.5375 - val_accuracy: 0.2258\n",
            "Epoch 3/100\n",
            "20/20 [==============================] - 1s 48ms/step - loss: 1.4428 - accuracy: 0.3425 - val_loss: 1.3507 - val_accuracy: 0.3763\n",
            "Epoch 4/100\n",
            "20/20 [==============================] - 1s 50ms/step - loss: 1.2508 - accuracy: 0.4576 - val_loss: 1.0713 - val_accuracy: 0.6022\n",
            "Epoch 5/100\n",
            "20/20 [==============================] - 1s 48ms/step - loss: 1.0312 - accuracy: 0.5568 - val_loss: 0.8955 - val_accuracy: 0.6487\n",
            "Epoch 6/100\n",
            "20/20 [==============================] - 1s 50ms/step - loss: 0.9148 - accuracy: 0.5914 - val_loss: 0.8312 - val_accuracy: 0.6523\n",
            "Epoch 7/100\n",
            "20/20 [==============================] - 1s 60ms/step - loss: 0.8479 - accuracy: 0.6284 - val_loss: 0.7606 - val_accuracy: 0.6631\n",
            "Epoch 8/100\n",
            "20/20 [==============================] - 1s 50ms/step - loss: 0.7762 - accuracy: 0.6543 - val_loss: 0.6834 - val_accuracy: 0.6846\n",
            "Epoch 9/100\n",
            "20/20 [==============================] - 1s 49ms/step - loss: 0.7319 - accuracy: 0.6790 - val_loss: 0.6208 - val_accuracy: 0.7634\n",
            "Epoch 10/100\n",
            "20/20 [==============================] - 1s 49ms/step - loss: 0.6593 - accuracy: 0.7176 - val_loss: 0.5626 - val_accuracy: 0.8065\n",
            "Epoch 11/100\n",
            "20/20 [==============================] - 1s 60ms/step - loss: 0.6217 - accuracy: 0.7384 - val_loss: 0.5367 - val_accuracy: 0.7849\n",
            "Epoch 12/100\n",
            "20/20 [==============================] - 1s 48ms/step - loss: 0.5718 - accuracy: 0.7658 - val_loss: 0.4736 - val_accuracy: 0.8208\n",
            "Epoch 13/100\n",
            "20/20 [==============================] - 1s 50ms/step - loss: 0.5368 - accuracy: 0.7818 - val_loss: 0.4513 - val_accuracy: 0.8208\n",
            "Epoch 14/100\n",
            "20/20 [==============================] - 1s 50ms/step - loss: 0.5101 - accuracy: 0.7861 - val_loss: 0.3914 - val_accuracy: 0.8530\n",
            "Epoch 15/100\n",
            "20/20 [==============================] - 1s 49ms/step - loss: 0.4614 - accuracy: 0.8033 - val_loss: 0.3650 - val_accuracy: 0.8674\n",
            "Epoch 16/100\n",
            "20/20 [==============================] - 1s 49ms/step - loss: 0.4469 - accuracy: 0.8220 - val_loss: 0.3413 - val_accuracy: 0.8674\n",
            "Epoch 17/100\n",
            "20/20 [==============================] - 1s 49ms/step - loss: 0.4110 - accuracy: 0.8248 - val_loss: 0.3104 - val_accuracy: 0.8889\n",
            "Epoch 18/100\n",
            "20/20 [==============================] - 1s 49ms/step - loss: 0.3795 - accuracy: 0.8495 - val_loss: 0.2975 - val_accuracy: 0.8746\n",
            "Epoch 19/100\n",
            "20/20 [==============================] - 1s 49ms/step - loss: 0.3644 - accuracy: 0.8451 - val_loss: 0.2728 - val_accuracy: 0.8996\n",
            "Epoch 20/100\n",
            "20/20 [==============================] - 1s 49ms/step - loss: 0.3420 - accuracy: 0.8630 - val_loss: 0.2567 - val_accuracy: 0.8889\n",
            "Epoch 21/100\n",
            "20/20 [==============================] - 1s 50ms/step - loss: 0.3257 - accuracy: 0.8753 - val_loss: 0.2457 - val_accuracy: 0.9032\n",
            "Epoch 22/100\n",
            "20/20 [==============================] - 1s 50ms/step - loss: 0.3052 - accuracy: 0.8833 - val_loss: 0.2337 - val_accuracy: 0.9140\n",
            "Epoch 23/100\n",
            "20/20 [==============================] - 1s 49ms/step - loss: 0.2903 - accuracy: 0.8841 - val_loss: 0.2244 - val_accuracy: 0.9068\n",
            "Epoch 24/100\n",
            "20/20 [==============================] - 1s 50ms/step - loss: 0.2863 - accuracy: 0.8845 - val_loss: 0.2144 - val_accuracy: 0.9140\n",
            "Epoch 25/100\n",
            "20/20 [==============================] - 1s 50ms/step - loss: 0.2858 - accuracy: 0.8873 - val_loss: 0.1985 - val_accuracy: 0.9104\n",
            "Epoch 26/100\n",
            "20/20 [==============================] - 1s 50ms/step - loss: 0.2687 - accuracy: 0.8929 - val_loss: 0.1952 - val_accuracy: 0.9283\n",
            "Epoch 27/100\n",
            "20/20 [==============================] - 1s 49ms/step - loss: 0.2572 - accuracy: 0.8988 - val_loss: 0.1809 - val_accuracy: 0.9247\n",
            "Epoch 28/100\n",
            "20/20 [==============================] - 1s 50ms/step - loss: 0.2429 - accuracy: 0.9032 - val_loss: 0.1847 - val_accuracy: 0.9104\n",
            "Epoch 29/100\n",
            "20/20 [==============================] - 1s 49ms/step - loss: 0.2396 - accuracy: 0.9096 - val_loss: 0.1769 - val_accuracy: 0.9176\n",
            "Epoch 30/100\n",
            "20/20 [==============================] - 1s 49ms/step - loss: 0.2246 - accuracy: 0.9164 - val_loss: 0.1559 - val_accuracy: 0.9391\n",
            "Epoch 31/100\n",
            "20/20 [==============================] - 1s 49ms/step - loss: 0.2199 - accuracy: 0.9200 - val_loss: 0.1631 - val_accuracy: 0.9283\n",
            "Epoch 32/100\n",
            "20/20 [==============================] - 1s 50ms/step - loss: 0.2090 - accuracy: 0.9219 - val_loss: 0.1544 - val_accuracy: 0.9355\n",
            "Epoch 33/100\n",
            "20/20 [==============================] - 1s 50ms/step - loss: 0.2164 - accuracy: 0.9176 - val_loss: 0.1556 - val_accuracy: 0.9211\n",
            "Epoch 34/100\n",
            "20/20 [==============================] - 1s 49ms/step - loss: 0.1963 - accuracy: 0.9259 - val_loss: 0.1455 - val_accuracy: 0.9427\n",
            "Epoch 35/100\n",
            "20/20 [==============================] - 1s 50ms/step - loss: 0.1896 - accuracy: 0.9303 - val_loss: 0.1373 - val_accuracy: 0.9534\n",
            "Epoch 36/100\n",
            "20/20 [==============================] - 1s 49ms/step - loss: 0.1909 - accuracy: 0.9255 - val_loss: 0.1367 - val_accuracy: 0.9462\n",
            "Epoch 37/100\n",
            "20/20 [==============================] - 1s 50ms/step - loss: 0.1939 - accuracy: 0.9263 - val_loss: 0.1342 - val_accuracy: 0.9427\n",
            "Epoch 38/100\n",
            "20/20 [==============================] - 1s 49ms/step - loss: 0.1822 - accuracy: 0.9275 - val_loss: 0.1328 - val_accuracy: 0.9498\n",
            "Epoch 39/100\n",
            "20/20 [==============================] - 1s 50ms/step - loss: 0.1692 - accuracy: 0.9351 - val_loss: 0.1246 - val_accuracy: 0.9498\n",
            "Epoch 40/100\n",
            "20/20 [==============================] - 1s 61ms/step - loss: 0.1705 - accuracy: 0.9383 - val_loss: 0.1212 - val_accuracy: 0.9534\n",
            "Epoch 41/100\n",
            "20/20 [==============================] - 1s 60ms/step - loss: 0.1592 - accuracy: 0.9434 - val_loss: 0.1270 - val_accuracy: 0.9462\n",
            "Epoch 42/100\n",
            "20/20 [==============================] - 1s 50ms/step - loss: 0.1787 - accuracy: 0.9299 - val_loss: 0.1225 - val_accuracy: 0.9391\n",
            "Epoch 43/100\n",
            "20/20 [==============================] - 1s 50ms/step - loss: 0.1537 - accuracy: 0.9403 - val_loss: 0.1197 - val_accuracy: 0.9534\n",
            "Epoch 44/100\n",
            "20/20 [==============================] - 1s 50ms/step - loss: 0.1632 - accuracy: 0.9363 - val_loss: 0.1292 - val_accuracy: 0.9498\n",
            "Epoch 45/100\n",
            "20/20 [==============================] - 1s 50ms/step - loss: 0.1601 - accuracy: 0.9403 - val_loss: 0.1135 - val_accuracy: 0.9498\n",
            "Epoch 46/100\n",
            "20/20 [==============================] - 1s 49ms/step - loss: 0.1562 - accuracy: 0.9419 - val_loss: 0.1170 - val_accuracy: 0.9534\n",
            "Epoch 47/100\n",
            "20/20 [==============================] - 1s 49ms/step - loss: 0.1431 - accuracy: 0.9522 - val_loss: 0.1170 - val_accuracy: 0.9462\n",
            "Epoch 48/100\n",
            "20/20 [==============================] - 1s 50ms/step - loss: 0.1525 - accuracy: 0.9431 - val_loss: 0.1247 - val_accuracy: 0.9462\n",
            "Epoch 49/100\n",
            "20/20 [==============================] - 1s 50ms/step - loss: 0.1434 - accuracy: 0.9474 - val_loss: 0.1158 - val_accuracy: 0.9427\n",
            "Epoch 50/100\n",
            "20/20 [==============================] - 1s 49ms/step - loss: 0.1399 - accuracy: 0.9502 - val_loss: 0.1214 - val_accuracy: 0.9427\n",
            "Epoch 51/100\n",
            "20/20 [==============================] - 1s 50ms/step - loss: 0.1320 - accuracy: 0.9514 - val_loss: 0.1089 - val_accuracy: 0.9427\n",
            "Epoch 52/100\n",
            "20/20 [==============================] - 1s 50ms/step - loss: 0.1283 - accuracy: 0.9498 - val_loss: 0.1122 - val_accuracy: 0.9427\n",
            "Epoch 53/100\n",
            "20/20 [==============================] - 1s 49ms/step - loss: 0.1260 - accuracy: 0.9542 - val_loss: 0.1062 - val_accuracy: 0.9570\n",
            "Epoch 54/100\n",
            "20/20 [==============================] - 1s 49ms/step - loss: 0.1320 - accuracy: 0.9522 - val_loss: 0.1064 - val_accuracy: 0.9570\n",
            "Epoch 55/100\n",
            "20/20 [==============================] - 1s 50ms/step - loss: 0.1309 - accuracy: 0.9506 - val_loss: 0.0961 - val_accuracy: 0.9606\n",
            "Epoch 56/100\n",
            "20/20 [==============================] - 1s 49ms/step - loss: 0.1309 - accuracy: 0.9514 - val_loss: 0.1019 - val_accuracy: 0.9534\n",
            "Epoch 57/100\n",
            "20/20 [==============================] - 1s 49ms/step - loss: 0.1229 - accuracy: 0.9506 - val_loss: 0.0968 - val_accuracy: 0.9570\n",
            "Epoch 58/100\n",
            "20/20 [==============================] - 1s 49ms/step - loss: 0.1218 - accuracy: 0.9522 - val_loss: 0.1002 - val_accuracy: 0.9391\n",
            "Epoch 59/100\n",
            "20/20 [==============================] - 1s 49ms/step - loss: 0.1208 - accuracy: 0.9534 - val_loss: 0.1034 - val_accuracy: 0.9498\n",
            "Epoch 60/100\n",
            "20/20 [==============================] - 1s 60ms/step - loss: 0.1134 - accuracy: 0.9586 - val_loss: 0.0959 - val_accuracy: 0.9606\n",
            "Epoch 61/100\n",
            "20/20 [==============================] - 1s 58ms/step - loss: 0.1130 - accuracy: 0.9586 - val_loss: 0.0981 - val_accuracy: 0.9606\n",
            "Epoch 62/100\n",
            "20/20 [==============================] - 1s 49ms/step - loss: 0.1123 - accuracy: 0.9526 - val_loss: 0.1040 - val_accuracy: 0.9570\n",
            "Epoch 63/100\n",
            "20/20 [==============================] - 1s 50ms/step - loss: 0.1215 - accuracy: 0.9526 - val_loss: 0.0927 - val_accuracy: 0.9749\n",
            "Epoch 64/100\n",
            "20/20 [==============================] - 1s 63ms/step - loss: 0.1047 - accuracy: 0.9638 - val_loss: 0.1073 - val_accuracy: 0.9606\n",
            "Epoch 65/100\n",
            "20/20 [==============================] - 1s 52ms/step - loss: 0.1006 - accuracy: 0.9626 - val_loss: 0.0962 - val_accuracy: 0.9570\n",
            "Epoch 66/100\n",
            "20/20 [==============================] - 1s 50ms/step - loss: 0.1025 - accuracy: 0.9634 - val_loss: 0.0907 - val_accuracy: 0.9606\n",
            "Epoch 67/100\n",
            "20/20 [==============================] - 1s 49ms/step - loss: 0.0937 - accuracy: 0.9665 - val_loss: 0.0956 - val_accuracy: 0.9534\n",
            "Epoch 68/100\n",
            "20/20 [==============================] - 1s 49ms/step - loss: 0.1042 - accuracy: 0.9602 - val_loss: 0.1019 - val_accuracy: 0.9534\n",
            "Epoch 69/100\n",
            "20/20 [==============================] - 1s 50ms/step - loss: 0.0914 - accuracy: 0.9673 - val_loss: 0.0928 - val_accuracy: 0.9642\n",
            "Epoch 70/100\n",
            "20/20 [==============================] - 1s 50ms/step - loss: 0.1039 - accuracy: 0.9598 - val_loss: 0.0936 - val_accuracy: 0.9642\n",
            "Epoch 71/100\n",
            "20/20 [==============================] - 1s 50ms/step - loss: 0.1009 - accuracy: 0.9586 - val_loss: 0.0900 - val_accuracy: 0.9642\n",
            "Epoch 72/100\n",
            "20/20 [==============================] - 1s 49ms/step - loss: 0.0967 - accuracy: 0.9638 - val_loss: 0.0989 - val_accuracy: 0.9606\n",
            "Epoch 73/100\n",
            "20/20 [==============================] - 1s 50ms/step - loss: 0.0926 - accuracy: 0.9650 - val_loss: 0.1085 - val_accuracy: 0.9570\n",
            "Epoch 74/100\n",
            "20/20 [==============================] - 1s 50ms/step - loss: 0.0925 - accuracy: 0.9701 - val_loss: 0.0966 - val_accuracy: 0.9677\n",
            "Epoch 75/100\n",
            "20/20 [==============================] - 1s 50ms/step - loss: 0.0927 - accuracy: 0.9661 - val_loss: 0.0982 - val_accuracy: 0.9570\n",
            "Epoch 76/100\n",
            "20/20 [==============================] - 1s 51ms/step - loss: 0.0909 - accuracy: 0.9654 - val_loss: 0.0977 - val_accuracy: 0.9534\n",
            "Epoch 77/100\n",
            "20/20 [==============================] - 1s 49ms/step - loss: 0.0873 - accuracy: 0.9661 - val_loss: 0.0930 - val_accuracy: 0.9606\n",
            "Epoch 78/100\n",
            "20/20 [==============================] - 1s 49ms/step - loss: 0.0951 - accuracy: 0.9626 - val_loss: 0.0961 - val_accuracy: 0.9677\n",
            "Epoch 79/100\n",
            "20/20 [==============================] - 1s 50ms/step - loss: 0.0895 - accuracy: 0.9669 - val_loss: 0.0975 - val_accuracy: 0.9606\n",
            "Epoch 80/100\n",
            "20/20 [==============================] - 1s 49ms/step - loss: 0.0812 - accuracy: 0.9685 - val_loss: 0.0922 - val_accuracy: 0.9713\n",
            "Epoch 81/100\n",
            "20/20 [==============================] - 1s 49ms/step - loss: 0.0844 - accuracy: 0.9673 - val_loss: 0.0877 - val_accuracy: 0.9677\n",
            "Epoch 82/100\n",
            "20/20 [==============================] - 1s 49ms/step - loss: 0.0816 - accuracy: 0.9717 - val_loss: 0.0913 - val_accuracy: 0.9642\n",
            "Epoch 83/100\n",
            "20/20 [==============================] - 1s 50ms/step - loss: 0.0768 - accuracy: 0.9713 - val_loss: 0.0994 - val_accuracy: 0.9606\n",
            "Epoch 84/100\n",
            "20/20 [==============================] - 1s 50ms/step - loss: 0.0821 - accuracy: 0.9677 - val_loss: 0.0952 - val_accuracy: 0.9642\n",
            "Epoch 85/100\n",
            "20/20 [==============================] - 1s 50ms/step - loss: 0.0812 - accuracy: 0.9713 - val_loss: 0.0968 - val_accuracy: 0.9677\n",
            "Epoch 86/100\n",
            "20/20 [==============================] - 1s 50ms/step - loss: 0.0782 - accuracy: 0.9677 - val_loss: 0.0926 - val_accuracy: 0.9677\n",
            "Epoch 87/100\n",
            "20/20 [==============================] - 1s 51ms/step - loss: 0.0844 - accuracy: 0.9685 - val_loss: 0.0947 - val_accuracy: 0.9642\n",
            "Epoch 88/100\n",
            "20/20 [==============================] - 1s 49ms/step - loss: 0.0776 - accuracy: 0.9697 - val_loss: 0.1016 - val_accuracy: 0.9570\n",
            "Epoch 89/100\n",
            "20/20 [==============================] - 1s 49ms/step - loss: 0.0740 - accuracy: 0.9705 - val_loss: 0.0954 - val_accuracy: 0.9642\n",
            "Epoch 90/100\n",
            "20/20 [==============================] - 1s 50ms/step - loss: 0.0814 - accuracy: 0.9705 - val_loss: 0.0911 - val_accuracy: 0.9606\n",
            "Epoch 91/100\n",
            "20/20 [==============================] - 1s 50ms/step - loss: 0.0664 - accuracy: 0.9757 - val_loss: 0.0891 - val_accuracy: 0.9642\n",
            "Epoch 92/100\n",
            "20/20 [==============================] - 1s 49ms/step - loss: 0.0739 - accuracy: 0.9745 - val_loss: 0.0887 - val_accuracy: 0.9677\n",
            "Epoch 93/100\n",
            "20/20 [==============================] - 1s 49ms/step - loss: 0.0831 - accuracy: 0.9646 - val_loss: 0.0989 - val_accuracy: 0.9570\n",
            "Epoch 94/100\n",
            "20/20 [==============================] - 1s 49ms/step - loss: 0.0757 - accuracy: 0.9713 - val_loss: 0.0905 - val_accuracy: 0.9606\n",
            "Epoch 95/100\n",
            "20/20 [==============================] - 1s 50ms/step - loss: 0.0681 - accuracy: 0.9765 - val_loss: 0.1012 - val_accuracy: 0.9642\n",
            "Epoch 96/100\n",
            "20/20 [==============================] - 1s 49ms/step - loss: 0.0771 - accuracy: 0.9701 - val_loss: 0.0905 - val_accuracy: 0.9642\n",
            "Epoch 97/100\n",
            "20/20 [==============================] - 1s 51ms/step - loss: 0.0777 - accuracy: 0.9669 - val_loss: 0.1012 - val_accuracy: 0.9642\n",
            "Epoch 98/100\n",
            "20/20 [==============================] - 1s 50ms/step - loss: 0.0717 - accuracy: 0.9773 - val_loss: 0.1033 - val_accuracy: 0.9606\n",
            "Epoch 99/100\n",
            "20/20 [==============================] - 1s 51ms/step - loss: 0.0715 - accuracy: 0.9733 - val_loss: 0.1003 - val_accuracy: 0.9677\n",
            "Epoch 100/100\n",
            "20/20 [==============================] - 1s 49ms/step - loss: 0.0758 - accuracy: 0.9685 - val_loss: 0.1026 - val_accuracy: 0.9606\n"
          ]
        }
      ]
    },
    {
      "cell_type": "code",
      "source": [
        "plt.plot(history.history['accuracy'],'bo')\n",
        "plt.plot(history.history['val_accuracy'],'rX')\n",
        "plt.title('model accuracy')\n",
        "plt.ylabel('accuracy')\n",
        "plt.xlabel('epoch')\n",
        "plt.legend(['train','test'],loc='upper left')\n",
        "plt.grid()\n",
        "plt.show()\n",
        "\n",
        "plt.plot(history.history['loss'],'bo')\n",
        "plt.plot(history.history['val_loss'],'rX')\n",
        "plt.title('model loss')\n",
        "plt.ylabel('loss')\n",
        "plt.xlabel('epoch')\n",
        "plt.legend(['train','test'],loc='upper left')\n",
        "plt.grid()\n",
        "plt.show()"
      ],
      "metadata": {
        "colab": {
          "base_uri": "https://localhost:8080/",
          "height": 573
        },
        "id": "_Pa_qVArNSa3",
        "outputId": "bc521a6f-2cc1-4af6-ccbd-dc8771bdc763"
      },
      "execution_count": null,
      "outputs": [
        {
          "output_type": "display_data",
          "data": {
            "text/plain": [
              "<Figure size 432x288 with 1 Axes>"
            ],
            "image/png": "[encoded data removed]"
          },
          "metadata": {
            "needs_background": "light"
          }
        },
        {
          "output_type": "display_data",
          "data": {
            "text/plain": [
              "<Figure size 432x288 with 1 Axes>"
            ],
            "image/png": "[encoded data removed]"
          },
          "metadata": {
            "needs_background": "light"
          }
        }
      ]
    }
  ]
}